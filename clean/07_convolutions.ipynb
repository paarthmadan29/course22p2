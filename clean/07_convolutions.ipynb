{
 "cells": [
  {
   "cell_type": "code",
   "execution_count": 6,
   "id": "99880772",
   "metadata": {},
   "outputs": [],
   "source": [
    "# cd .."
   ]
  },
  {
   "cell_type": "code",
   "execution_count": 7,
   "id": "e1512365",
   "metadata": {},
   "outputs": [
    {
     "name": "stdout",
     "output_type": "stream",
     "text": [
      "/home/metabrix_project_user/course22p2\r\n"
     ]
    }
   ],
   "source": [
    "!pwd"
   ]
  },
  {
   "cell_type": "code",
   "execution_count": 8,
   "id": "5f5bfc07-0337-4906-ac76-88568b2b09f8",
   "metadata": {},
   "outputs": [],
   "source": [
    "import torch\n",
    "import miniai"
   ]
  },
  {
   "cell_type": "code",
   "execution_count": 9,
   "id": "b191a696",
   "metadata": {},
   "outputs": [],
   "source": [
    "import torch\n",
    "from torch import nn\n",
    "\n",
    "from torch.utils.data import default_collate\n",
    "from typing import Mapping\n",
    "\n",
    "from miniai.training import *\n",
    "from miniai.datasets import *"
   ]
  },
  {
   "cell_type": "code",
   "execution_count": 10,
   "id": "02d11fb6",
   "metadata": {},
   "outputs": [],
   "source": [
    "import pickle, gzip, math, os, time, shutil, matplotlib as mpl, numpy as np\n",
    "import pandas as pd, matplotlib.pyplot as plt\n",
    "from pathlib import Path\n",
    "from torch import tensor\n",
    "\n",
    "from torch.utils.data import DataLoader\n",
    "from typing import Mapping\n"
   ]
  },
  {
   "cell_type": "code",
   "execution_count": 11,
   "id": "b4051667",
   "metadata": {},
   "outputs": [],
   "source": [
    "mpl.rcParams['image.cmap'] = 'gray'"
   ]
  },
  {
   "cell_type": "code",
   "execution_count": 12,
   "id": "956c6dd7",
   "metadata": {},
   "outputs": [],
   "source": [
    "path_data = Path('data')\n",
    "path_gz = path_data/'mnist.pkl.gz'\n",
    "with gzip.open(path_gz, 'rb') as f:\n",
    "    ((x_train, y_train), (x_valid, y_valid), _) = pickle.load(f, encoding='latin-1')\n",
    "    \n",
    "x_train, y_train, x_valid, y_valid = map(tensor, [x_train, y_train, x_valid, y_valid])"
   ]
  },
  {
   "cell_type": "code",
   "execution_count": 33,
   "id": "8df02632",
   "metadata": {},
   "outputs": [],
   "source": [
    "# gz = gzip.open(path_gz) \n",
    "# gz.close()"
   ]
  },
  {
   "cell_type": "code",
   "execution_count": 34,
   "id": "48445afa",
   "metadata": {},
   "outputs": [
    {
     "data": {
      "text/plain": [
       "torch.Size([50000, 784])"
      ]
     },
     "execution_count": 34,
     "metadata": {},
     "output_type": "execute_result"
    }
   ],
   "source": [
    "x_train.shape"
   ]
  },
  {
   "cell_type": "code",
   "execution_count": 35,
   "id": "f9ae2da8",
   "metadata": {},
   "outputs": [],
   "source": [
    "x_imgs = x_train.view(-1, 28, 28)\n",
    "xv_imgs = x_valid.view(-1, 28, 28) "
   ]
  },
  {
   "cell_type": "code",
   "execution_count": 36,
   "id": "a607bdea",
   "metadata": {},
   "outputs": [],
   "source": [
    "x_reshaped = x_train.reshape(-1, 28, 28)"
   ]
  },
  {
   "cell_type": "code",
   "execution_count": 37,
   "id": "60d43a2d",
   "metadata": {},
   "outputs": [
    {
     "data": {
      "text/plain": [
       "array([ True])"
      ]
     },
     "execution_count": 37,
     "metadata": {},
     "output_type": "execute_result"
    }
   ],
   "source": [
    "np.unique(x_imgs == x_reshaped)"
   ]
  },
  {
   "cell_type": "code",
   "execution_count": 38,
   "id": "97a2cc94",
   "metadata": {},
   "outputs": [],
   "source": [
    "mpl.rcParams['figure.dpi'] = 30"
   ]
  },
  {
   "cell_type": "code",
   "execution_count": 39,
   "id": "d0c85a17",
   "metadata": {},
   "outputs": [
    {
     "data": {
      "text/plain": [
       "<Axes: >"
      ]
     },
     "execution_count": 39,
     "metadata": {},
     "output_type": "execute_result"
    },
    {
     "data": {
      "image/png": "[encoded data removed]",
      "text/plain": [
       "<Figure size 192x144 with 1 Axes>"
      ]
     },
     "metadata": {},
     "output_type": "display_data"
    }
   ],
   "source": [
    "im3 = x_imgs[110]\n",
    "show_image(im3)"
   ]
  },
  {
   "cell_type": "code",
   "execution_count": 40,
   "id": "8662c97c",
   "metadata": {},
   "outputs": [],
   "source": [
    "top_edge = tensor([[-1, -1, -1],\n",
    "                   [0, 0, 0],\n",
    "                   [1, 1, 1]]).float()"
   ]
  },
  {
   "cell_type": "code",
   "execution_count": 41,
   "id": "404f2fb9",
   "metadata": {},
   "outputs": [
    {
     "data": {
      "text/plain": [
       "<Axes: >"
      ]
     },
     "execution_count": 41,
     "metadata": {},
     "output_type": "execute_result"
    },
    {
     "data": {
      "image/png": "[encoded data removed]",
      "text/plain": [
       "<Figure size 192x144 with 1 Axes>"
      ]
     },
     "metadata": {},
     "output_type": "display_data"
    }
   ],
   "source": [
    "show_image(top_edge, noframe=False)"
   ]
  },
  {
   "cell_type": "code",
   "execution_count": 42,
   "id": "8e0a1457",
   "metadata": {},
   "outputs": [
    {
     "data": {
      "text/html": [
       "<style type=\"text/css\">\n",
       "#T_2d3c2_row0_col0, #T_2d3c2_row0_col1, #T_2d3c2_row0_col2, #T_2d3c2_row0_col3, #T_2d3c2_row0_col4, #T_2d3c2_row0_col5, #T_2d3c2_row0_col6, #T_2d3c2_row0_col7, #T_2d3c2_row0_col8, #T_2d3c2_row0_col9, #T_2d3c2_row0_col10, #T_2d3c2_row0_col11, #T_2d3c2_row0_col12, #T_2d3c2_row0_col13, #T_2d3c2_row0_col14, #T_2d3c2_row0_col15, #T_2d3c2_row0_col16, #T_2d3c2_row0_col17, #T_2d3c2_row0_col18, #T_2d3c2_row0_col19, #T_2d3c2_row0_col20, #T_2d3c2_row0_col21, #T_2d3c2_row0_col22, #T_2d3c2_row1_col0, #T_2d3c2_row1_col1, #T_2d3c2_row1_col2, #T_2d3c2_row1_col3, #T_2d3c2_row1_col4, #T_2d3c2_row1_col5, #T_2d3c2_row1_col6, #T_2d3c2_row1_col7, #T_2d3c2_row1_col8, #T_2d3c2_row1_col9, #T_2d3c2_row1_col10, #T_2d3c2_row1_col11, #T_2d3c2_row1_col12, #T_2d3c2_row1_col13, #T_2d3c2_row1_col14, #T_2d3c2_row1_col15, #T_2d3c2_row1_col16, #T_2d3c2_row1_col17, #T_2d3c2_row1_col18, #T_2d3c2_row1_col19, #T_2d3c2_row1_col20, #T_2d3c2_row1_col21, #T_2d3c2_row1_col22, #T_2d3c2_row2_col0, #T_2d3c2_row2_col1, #T_2d3c2_row2_col2, #T_2d3c2_row2_col3, #T_2d3c2_row2_col4, #T_2d3c2_row2_col5, #T_2d3c2_row2_col6, #T_2d3c2_row2_col7, #T_2d3c2_row2_col8, #T_2d3c2_row2_col9, #T_2d3c2_row2_col10, #T_2d3c2_row2_col11, #T_2d3c2_row2_col12, #T_2d3c2_row2_col13, #T_2d3c2_row2_col14, #T_2d3c2_row2_col15, #T_2d3c2_row2_col16, #T_2d3c2_row2_col17, #T_2d3c2_row2_col18, #T_2d3c2_row2_col19, #T_2d3c2_row2_col20, #T_2d3c2_row2_col21, #T_2d3c2_row2_col22, #T_2d3c2_row3_col0, #T_2d3c2_row3_col1, #T_2d3c2_row3_col2, #T_2d3c2_row3_col3, #T_2d3c2_row3_col4, #T_2d3c2_row3_col5, #T_2d3c2_row3_col6, #T_2d3c2_row3_col7, #T_2d3c2_row3_col8, #T_2d3c2_row3_col9, #T_2d3c2_row3_col10, #T_2d3c2_row3_col11, #T_2d3c2_row3_col12, #T_2d3c2_row3_col13, #T_2d3c2_row3_col14, #T_2d3c2_row3_col15, #T_2d3c2_row3_col16, #T_2d3c2_row3_col17, #T_2d3c2_row3_col18, #T_2d3c2_row3_col19, #T_2d3c2_row3_col20, #T_2d3c2_row3_col21, #T_2d3c2_row3_col22, #T_2d3c2_row4_col0, #T_2d3c2_row4_col1, #T_2d3c2_row4_col2, #T_2d3c2_row4_col3, #T_2d3c2_row4_col4, #T_2d3c2_row4_col5, #T_2d3c2_row4_col6, #T_2d3c2_row4_col7, #T_2d3c2_row4_col8, #T_2d3c2_row4_col9, #T_2d3c2_row4_col10, #T_2d3c2_row4_col11, #T_2d3c2_row4_col12, #T_2d3c2_row4_col13, #T_2d3c2_row4_col14, #T_2d3c2_row4_col15, #T_2d3c2_row4_col16, #T_2d3c2_row4_col17, #T_2d3c2_row4_col18, #T_2d3c2_row4_col19, #T_2d3c2_row4_col20, #T_2d3c2_row4_col21, #T_2d3c2_row4_col22, #T_2d3c2_row5_col0, #T_2d3c2_row5_col1, #T_2d3c2_row5_col2, #T_2d3c2_row5_col3, #T_2d3c2_row5_col4, #T_2d3c2_row5_col5, #T_2d3c2_row5_col6, #T_2d3c2_row5_col7, #T_2d3c2_row5_col8, #T_2d3c2_row5_col9, #T_2d3c2_row5_col10, #T_2d3c2_row5_col11, #T_2d3c2_row5_col12, #T_2d3c2_row5_col13, #T_2d3c2_row5_col14, #T_2d3c2_row5_col15, #T_2d3c2_row5_col16, #T_2d3c2_row5_col17, #T_2d3c2_row5_col18, #T_2d3c2_row5_col19, #T_2d3c2_row5_col20, #T_2d3c2_row5_col21, #T_2d3c2_row5_col22, #T_2d3c2_row6_col0, #T_2d3c2_row6_col1, #T_2d3c2_row6_col2, #T_2d3c2_row6_col3, #T_2d3c2_row6_col4, #T_2d3c2_row6_col5, #T_2d3c2_row6_col6, #T_2d3c2_row6_col7, #T_2d3c2_row6_col8, #T_2d3c2_row6_col9, #T_2d3c2_row6_col10, #T_2d3c2_row6_col11, #T_2d3c2_row6_col17, #T_2d3c2_row6_col18, #T_2d3c2_row6_col19, #T_2d3c2_row6_col20, #T_2d3c2_row6_col21, #T_2d3c2_row6_col22, #T_2d3c2_row7_col0, #T_2d3c2_row7_col1, #T_2d3c2_row7_col2, #T_2d3c2_row7_col3, #T_2d3c2_row7_col4, #T_2d3c2_row7_col5, #T_2d3c2_row7_col6, #T_2d3c2_row7_col7, #T_2d3c2_row7_col8, #T_2d3c2_row7_col9, #T_2d3c2_row7_col20, #T_2d3c2_row7_col21, #T_2d3c2_row7_col22, #T_2d3c2_row8_col0, #T_2d3c2_row8_col1, #T_2d3c2_row8_col2, #T_2d3c2_row8_col3, #T_2d3c2_row8_col4, #T_2d3c2_row8_col5, #T_2d3c2_row8_col6, #T_2d3c2_row8_col7, #T_2d3c2_row8_col8, #T_2d3c2_row8_col9, #T_2d3c2_row8_col20, #T_2d3c2_row8_col21, #T_2d3c2_row8_col22, #T_2d3c2_row9_col0, #T_2d3c2_row9_col1, #T_2d3c2_row9_col2, #T_2d3c2_row9_col3, #T_2d3c2_row9_col4, #T_2d3c2_row9_col5, #T_2d3c2_row9_col6, #T_2d3c2_row9_col7, #T_2d3c2_row9_col8, #T_2d3c2_row9_col14, #T_2d3c2_row9_col20, #T_2d3c2_row9_col21, #T_2d3c2_row9_col22, #T_2d3c2_row10_col0, #T_2d3c2_row10_col1, #T_2d3c2_row10_col2, #T_2d3c2_row10_col3, #T_2d3c2_row10_col4, #T_2d3c2_row10_col5, #T_2d3c2_row10_col6, #T_2d3c2_row10_col7, #T_2d3c2_row10_col13, #T_2d3c2_row10_col14, #T_2d3c2_row10_col15, #T_2d3c2_row10_col20, #T_2d3c2_row10_col21, #T_2d3c2_row10_col22, #T_2d3c2_row11_col0, #T_2d3c2_row11_col1, #T_2d3c2_row11_col2, #T_2d3c2_row11_col3, #T_2d3c2_row11_col4, #T_2d3c2_row11_col5, #T_2d3c2_row11_col6, #T_2d3c2_row11_col12, #T_2d3c2_row11_col13, #T_2d3c2_row11_col14, #T_2d3c2_row11_col20, #T_2d3c2_row11_col21, #T_2d3c2_row11_col22, #T_2d3c2_row12_col0, #T_2d3c2_row12_col1, #T_2d3c2_row12_col2, #T_2d3c2_row12_col3, #T_2d3c2_row12_col4, #T_2d3c2_row12_col5, #T_2d3c2_row12_col6, #T_2d3c2_row12_col11, #T_2d3c2_row12_col12, #T_2d3c2_row12_col13, #T_2d3c2_row12_col20, #T_2d3c2_row12_col21, #T_2d3c2_row12_col22 {\n",
       "  font-size: 7pt;\n",
       "  background-color: #ffffff;\n",
       "  color: #000000;\n",
       "}\n",
       "#T_2d3c2_row6_col12 {\n",
       "  font-size: 7pt;\n",
       "  background-color: #f5f5f5;\n",
       "  color: #000000;\n",
       "}\n",
       "#T_2d3c2_row6_col13 {\n",
       "  font-size: 7pt;\n",
       "  background-color: #8f8f8f;\n",
       "  color: #f1f1f1;\n",
       "}\n",
       "#T_2d3c2_row6_col14, #T_2d3c2_row6_col15, #T_2d3c2_row7_col13, #T_2d3c2_row8_col11, #T_2d3c2_row8_col12, #T_2d3c2_row8_col16, #T_2d3c2_row8_col17, #T_2d3c2_row8_col18, #T_2d3c2_row8_col19, #T_2d3c2_row9_col11, #T_2d3c2_row9_col17, #T_2d3c2_row9_col18, #T_2d3c2_row9_col19, #T_2d3c2_row10_col10, #T_2d3c2_row10_col17, #T_2d3c2_row10_col18, #T_2d3c2_row11_col9, #T_2d3c2_row11_col17, #T_2d3c2_row11_col18, #T_2d3c2_row12_col7, #T_2d3c2_row12_col8, #T_2d3c2_row12_col9, #T_2d3c2_row12_col16, #T_2d3c2_row12_col17, #T_2d3c2_row12_col18 {\n",
       "  font-size: 7pt;\n",
       "  background-color: #000000;\n",
       "  color: #f1f1f1;\n",
       "}\n",
       "#T_2d3c2_row6_col16 {\n",
       "  font-size: 7pt;\n",
       "  background-color: #dbdbdb;\n",
       "  color: #000000;\n",
       "}\n",
       "#T_2d3c2_row7_col10 {\n",
       "  font-size: 7pt;\n",
       "  background-color: #fdfdfd;\n",
       "  color: #000000;\n",
       "}\n",
       "#T_2d3c2_row7_col11 {\n",
       "  font-size: 7pt;\n",
       "  background-color: #cacaca;\n",
       "  color: #000000;\n",
       "}\n",
       "#T_2d3c2_row7_col12 {\n",
       "  font-size: 7pt;\n",
       "  background-color: #1f1f1f;\n",
       "  color: #f1f1f1;\n",
       "}\n",
       "#T_2d3c2_row7_col14, #T_2d3c2_row7_col15, #T_2d3c2_row12_col15 {\n",
       "  font-size: 7pt;\n",
       "  background-color: #010101;\n",
       "  color: #f1f1f1;\n",
       "}\n",
       "#T_2d3c2_row7_col16 {\n",
       "  font-size: 7pt;\n",
       "  background-color: #1d1d1d;\n",
       "  color: #f1f1f1;\n",
       "}\n",
       "#T_2d3c2_row7_col17 {\n",
       "  font-size: 7pt;\n",
       "  background-color: #e7e7e7;\n",
       "  color: #000000;\n",
       "}\n",
       "#T_2d3c2_row7_col18 {\n",
       "  font-size: 7pt;\n",
       "  background-color: #e3e3e3;\n",
       "  color: #000000;\n",
       "}\n",
       "#T_2d3c2_row7_col19 {\n",
       "  font-size: 7pt;\n",
       "  background-color: #fafafa;\n",
       "  color: #000000;\n",
       "}\n",
       "#T_2d3c2_row8_col10 {\n",
       "  font-size: 7pt;\n",
       "  background-color: #7d7d7d;\n",
       "  color: #f1f1f1;\n",
       "}\n",
       "#T_2d3c2_row8_col13 {\n",
       "  font-size: 7pt;\n",
       "  background-color: #2e2e2e;\n",
       "  color: #f1f1f1;\n",
       "}\n",
       "#T_2d3c2_row8_col14 {\n",
       "  font-size: 7pt;\n",
       "  background-color: #aaaaaa;\n",
       "  color: #f1f1f1;\n",
       "}\n",
       "#T_2d3c2_row8_col15 {\n",
       "  font-size: 7pt;\n",
       "  background-color: #3f3f3f;\n",
       "  color: #f1f1f1;\n",
       "}\n",
       "#T_2d3c2_row9_col9 {\n",
       "  font-size: 7pt;\n",
       "  background-color: #9d9d9d;\n",
       "  color: #f1f1f1;\n",
       "}\n",
       "#T_2d3c2_row9_col10 {\n",
       "  font-size: 7pt;\n",
       "  background-color: #0a0a0a;\n",
       "  color: #f1f1f1;\n",
       "}\n",
       "#T_2d3c2_row9_col12 {\n",
       "  font-size: 7pt;\n",
       "  background-color: #6e6e6e;\n",
       "  color: #f1f1f1;\n",
       "}\n",
       "#T_2d3c2_row9_col13 {\n",
       "  font-size: 7pt;\n",
       "  background-color: #f8f8f8;\n",
       "  color: #000000;\n",
       "}\n",
       "#T_2d3c2_row9_col15 {\n",
       "  font-size: 7pt;\n",
       "  background-color: #fbfbfb;\n",
       "  color: #000000;\n",
       "}\n",
       "#T_2d3c2_row9_col16 {\n",
       "  font-size: 7pt;\n",
       "  background-color: #323232;\n",
       "  color: #f1f1f1;\n",
       "}\n",
       "#T_2d3c2_row10_col8 {\n",
       "  font-size: 7pt;\n",
       "  background-color: #c9c9c9;\n",
       "  color: #000000;\n",
       "}\n",
       "#T_2d3c2_row10_col9, #T_2d3c2_row11_col8 {\n",
       "  font-size: 7pt;\n",
       "  background-color: #080808;\n",
       "  color: #f1f1f1;\n",
       "}\n",
       "#T_2d3c2_row10_col11 {\n",
       "  font-size: 7pt;\n",
       "  background-color: #484848;\n",
       "  color: #f1f1f1;\n",
       "}\n",
       "#T_2d3c2_row10_col12 {\n",
       "  font-size: 7pt;\n",
       "  background-color: #f6f6f6;\n",
       "  color: #000000;\n",
       "}\n",
       "#T_2d3c2_row10_col16 {\n",
       "  font-size: 7pt;\n",
       "  background-color: #585858;\n",
       "  color: #f1f1f1;\n",
       "}\n",
       "#T_2d3c2_row10_col19 {\n",
       "  font-size: 7pt;\n",
       "  background-color: #333333;\n",
       "  color: #f1f1f1;\n",
       "}\n",
       "#T_2d3c2_row11_col7 {\n",
       "  font-size: 7pt;\n",
       "  background-color: #e1e1e1;\n",
       "  color: #000000;\n",
       "}\n",
       "#T_2d3c2_row11_col10 {\n",
       "  font-size: 7pt;\n",
       "  background-color: #464646;\n",
       "  color: #f1f1f1;\n",
       "}\n",
       "#T_2d3c2_row11_col11 {\n",
       "  font-size: 7pt;\n",
       "  background-color: #f7f7f7;\n",
       "  color: #000000;\n",
       "}\n",
       "#T_2d3c2_row11_col15 {\n",
       "  font-size: 7pt;\n",
       "  background-color: #a3a3a3;\n",
       "  color: #f1f1f1;\n",
       "}\n",
       "#T_2d3c2_row11_col16 {\n",
       "  font-size: 7pt;\n",
       "  background-color: #030303;\n",
       "  color: #f1f1f1;\n",
       "}\n",
       "#T_2d3c2_row11_col19, #T_2d3c2_row12_col19 {\n",
       "  font-size: 7pt;\n",
       "  background-color: #adadad;\n",
       "  color: #000000;\n",
       "}\n",
       "#T_2d3c2_row12_col10 {\n",
       "  font-size: 7pt;\n",
       "  background-color: #d4d4d4;\n",
       "  color: #000000;\n",
       "}\n",
       "#T_2d3c2_row12_col14 {\n",
       "  font-size: 7pt;\n",
       "  background-color: #cccccc;\n",
       "  color: #000000;\n",
       "}\n",
       "</style>\n",
       "<table id=\"T_2d3c2\">\n",
       "  <thead>\n",
       "    <tr>\n",
       "      <th class=\"blank level0\" >&nbsp;</th>\n",
       "      <th id=\"T_2d3c2_level0_col0\" class=\"col_heading level0 col0\" >0</th>\n",
       "      <th id=\"T_2d3c2_level0_col1\" class=\"col_heading level0 col1\" >1</th>\n",
       "      <th id=\"T_2d3c2_level0_col2\" class=\"col_heading level0 col2\" >2</th>\n",
       "      <th id=\"T_2d3c2_level0_col3\" class=\"col_heading level0 col3\" >3</th>\n",
       "      <th id=\"T_2d3c2_level0_col4\" class=\"col_heading level0 col4\" >4</th>\n",
       "      <th id=\"T_2d3c2_level0_col5\" class=\"col_heading level0 col5\" >5</th>\n",
       "      <th id=\"T_2d3c2_level0_col6\" class=\"col_heading level0 col6\" >6</th>\n",
       "      <th id=\"T_2d3c2_level0_col7\" class=\"col_heading level0 col7\" >7</th>\n",
       "      <th id=\"T_2d3c2_level0_col8\" class=\"col_heading level0 col8\" >8</th>\n",
       "      <th id=\"T_2d3c2_level0_col9\" class=\"col_heading level0 col9\" >9</th>\n",
       "      <th id=\"T_2d3c2_level0_col10\" class=\"col_heading level0 col10\" >10</th>\n",
       "      <th id=\"T_2d3c2_level0_col11\" class=\"col_heading level0 col11\" >11</th>\n",
       "      <th id=\"T_2d3c2_level0_col12\" class=\"col_heading level0 col12\" >12</th>\n",
       "      <th id=\"T_2d3c2_level0_col13\" class=\"col_heading level0 col13\" >13</th>\n",
       "      <th id=\"T_2d3c2_level0_col14\" class=\"col_heading level0 col14\" >14</th>\n",
       "      <th id=\"T_2d3c2_level0_col15\" class=\"col_heading level0 col15\" >15</th>\n",
       "      <th id=\"T_2d3c2_level0_col16\" class=\"col_heading level0 col16\" >16</th>\n",
       "      <th id=\"T_2d3c2_level0_col17\" class=\"col_heading level0 col17\" >17</th>\n",
       "      <th id=\"T_2d3c2_level0_col18\" class=\"col_heading level0 col18\" >18</th>\n",
       "      <th id=\"T_2d3c2_level0_col19\" class=\"col_heading level0 col19\" >19</th>\n",
       "      <th id=\"T_2d3c2_level0_col20\" class=\"col_heading level0 col20\" >20</th>\n",
       "      <th id=\"T_2d3c2_level0_col21\" class=\"col_heading level0 col21\" >21</th>\n",
       "      <th id=\"T_2d3c2_level0_col22\" class=\"col_heading level0 col22\" >22</th>\n",
       "    </tr>\n",
       "  </thead>\n",
       "  <tbody>\n",
       "    <tr>\n",
       "      <th id=\"T_2d3c2_level0_row0\" class=\"row_heading level0 row0\" >0</th>\n",
       "      <td id=\"T_2d3c2_row0_col0\" class=\"data row0 col0\" >0.00</td>\n",
       "      <td id=\"T_2d3c2_row0_col1\" class=\"data row0 col1\" >0.00</td>\n",
       "      <td id=\"T_2d3c2_row0_col2\" class=\"data row0 col2\" >0.00</td>\n",
       "      <td id=\"T_2d3c2_row0_col3\" class=\"data row0 col3\" >0.00</td>\n",
       "      <td id=\"T_2d3c2_row0_col4\" class=\"data row0 col4\" >0.00</td>\n",
       "      <td id=\"T_2d3c2_row0_col5\" class=\"data row0 col5\" >0.00</td>\n",
       "      <td id=\"T_2d3c2_row0_col6\" class=\"data row0 col6\" >0.00</td>\n",
       "      <td id=\"T_2d3c2_row0_col7\" class=\"data row0 col7\" >0.00</td>\n",
       "      <td id=\"T_2d3c2_row0_col8\" class=\"data row0 col8\" >0.00</td>\n",
       "      <td id=\"T_2d3c2_row0_col9\" class=\"data row0 col9\" >0.00</td>\n",
       "      <td id=\"T_2d3c2_row0_col10\" class=\"data row0 col10\" >0.00</td>\n",
       "      <td id=\"T_2d3c2_row0_col11\" class=\"data row0 col11\" >0.00</td>\n",
       "      <td id=\"T_2d3c2_row0_col12\" class=\"data row0 col12\" >0.00</td>\n",
       "      <td id=\"T_2d3c2_row0_col13\" class=\"data row0 col13\" >0.00</td>\n",
       "      <td id=\"T_2d3c2_row0_col14\" class=\"data row0 col14\" >0.00</td>\n",
       "      <td id=\"T_2d3c2_row0_col15\" class=\"data row0 col15\" >0.00</td>\n",
       "      <td id=\"T_2d3c2_row0_col16\" class=\"data row0 col16\" >0.00</td>\n",
       "      <td id=\"T_2d3c2_row0_col17\" class=\"data row0 col17\" >0.00</td>\n",
       "      <td id=\"T_2d3c2_row0_col18\" class=\"data row0 col18\" >0.00</td>\n",
       "      <td id=\"T_2d3c2_row0_col19\" class=\"data row0 col19\" >0.00</td>\n",
       "      <td id=\"T_2d3c2_row0_col20\" class=\"data row0 col20\" >0.00</td>\n",
       "      <td id=\"T_2d3c2_row0_col21\" class=\"data row0 col21\" >0.00</td>\n",
       "      <td id=\"T_2d3c2_row0_col22\" class=\"data row0 col22\" >0.00</td>\n",
       "    </tr>\n",
       "    <tr>\n",
       "      <th id=\"T_2d3c2_level0_row1\" class=\"row_heading level0 row1\" >1</th>\n",
       "      <td id=\"T_2d3c2_row1_col0\" class=\"data row1 col0\" >0.00</td>\n",
       "      <td id=\"T_2d3c2_row1_col1\" class=\"data row1 col1\" >0.00</td>\n",
       "      <td id=\"T_2d3c2_row1_col2\" class=\"data row1 col2\" >0.00</td>\n",
       "      <td id=\"T_2d3c2_row1_col3\" class=\"data row1 col3\" >0.00</td>\n",
       "      <td id=\"T_2d3c2_row1_col4\" class=\"data row1 col4\" >0.00</td>\n",
       "      <td id=\"T_2d3c2_row1_col5\" class=\"data row1 col5\" >0.00</td>\n",
       "      <td id=\"T_2d3c2_row1_col6\" class=\"data row1 col6\" >0.00</td>\n",
       "      <td id=\"T_2d3c2_row1_col7\" class=\"data row1 col7\" >0.00</td>\n",
       "      <td id=\"T_2d3c2_row1_col8\" class=\"data row1 col8\" >0.00</td>\n",
       "      <td id=\"T_2d3c2_row1_col9\" class=\"data row1 col9\" >0.00</td>\n",
       "      <td id=\"T_2d3c2_row1_col10\" class=\"data row1 col10\" >0.00</td>\n",
       "      <td id=\"T_2d3c2_row1_col11\" class=\"data row1 col11\" >0.00</td>\n",
       "      <td id=\"T_2d3c2_row1_col12\" class=\"data row1 col12\" >0.00</td>\n",
       "      <td id=\"T_2d3c2_row1_col13\" class=\"data row1 col13\" >0.00</td>\n",
       "      <td id=\"T_2d3c2_row1_col14\" class=\"data row1 col14\" >0.00</td>\n",
       "      <td id=\"T_2d3c2_row1_col15\" class=\"data row1 col15\" >0.00</td>\n",
       "      <td id=\"T_2d3c2_row1_col16\" class=\"data row1 col16\" >0.00</td>\n",
       "      <td id=\"T_2d3c2_row1_col17\" class=\"data row1 col17\" >0.00</td>\n",
       "      <td id=\"T_2d3c2_row1_col18\" class=\"data row1 col18\" >0.00</td>\n",
       "      <td id=\"T_2d3c2_row1_col19\" class=\"data row1 col19\" >0.00</td>\n",
       "      <td id=\"T_2d3c2_row1_col20\" class=\"data row1 col20\" >0.00</td>\n",
       "      <td id=\"T_2d3c2_row1_col21\" class=\"data row1 col21\" >0.00</td>\n",
       "      <td id=\"T_2d3c2_row1_col22\" class=\"data row1 col22\" >0.00</td>\n",
       "    </tr>\n",
       "    <tr>\n",
       "      <th id=\"T_2d3c2_level0_row2\" class=\"row_heading level0 row2\" >2</th>\n",
       "      <td id=\"T_2d3c2_row2_col0\" class=\"data row2 col0\" >0.00</td>\n",
       "      <td id=\"T_2d3c2_row2_col1\" class=\"data row2 col1\" >0.00</td>\n",
       "      <td id=\"T_2d3c2_row2_col2\" class=\"data row2 col2\" >0.00</td>\n",
       "      <td id=\"T_2d3c2_row2_col3\" class=\"data row2 col3\" >0.00</td>\n",
       "      <td id=\"T_2d3c2_row2_col4\" class=\"data row2 col4\" >0.00</td>\n",
       "      <td id=\"T_2d3c2_row2_col5\" class=\"data row2 col5\" >0.00</td>\n",
       "      <td id=\"T_2d3c2_row2_col6\" class=\"data row2 col6\" >0.00</td>\n",
       "      <td id=\"T_2d3c2_row2_col7\" class=\"data row2 col7\" >0.00</td>\n",
       "      <td id=\"T_2d3c2_row2_col8\" class=\"data row2 col8\" >0.00</td>\n",
       "      <td id=\"T_2d3c2_row2_col9\" class=\"data row2 col9\" >0.00</td>\n",
       "      <td id=\"T_2d3c2_row2_col10\" class=\"data row2 col10\" >0.00</td>\n",
       "      <td id=\"T_2d3c2_row2_col11\" class=\"data row2 col11\" >0.00</td>\n",
       "      <td id=\"T_2d3c2_row2_col12\" class=\"data row2 col12\" >0.00</td>\n",
       "      <td id=\"T_2d3c2_row2_col13\" class=\"data row2 col13\" >0.00</td>\n",
       "      <td id=\"T_2d3c2_row2_col14\" class=\"data row2 col14\" >0.00</td>\n",
       "      <td id=\"T_2d3c2_row2_col15\" class=\"data row2 col15\" >0.00</td>\n",
       "      <td id=\"T_2d3c2_row2_col16\" class=\"data row2 col16\" >0.00</td>\n",
       "      <td id=\"T_2d3c2_row2_col17\" class=\"data row2 col17\" >0.00</td>\n",
       "      <td id=\"T_2d3c2_row2_col18\" class=\"data row2 col18\" >0.00</td>\n",
       "      <td id=\"T_2d3c2_row2_col19\" class=\"data row2 col19\" >0.00</td>\n",
       "      <td id=\"T_2d3c2_row2_col20\" class=\"data row2 col20\" >0.00</td>\n",
       "      <td id=\"T_2d3c2_row2_col21\" class=\"data row2 col21\" >0.00</td>\n",
       "      <td id=\"T_2d3c2_row2_col22\" class=\"data row2 col22\" >0.00</td>\n",
       "    </tr>\n",
       "    <tr>\n",
       "      <th id=\"T_2d3c2_level0_row3\" class=\"row_heading level0 row3\" >3</th>\n",
       "      <td id=\"T_2d3c2_row3_col0\" class=\"data row3 col0\" >0.00</td>\n",
       "      <td id=\"T_2d3c2_row3_col1\" class=\"data row3 col1\" >0.00</td>\n",
       "      <td id=\"T_2d3c2_row3_col2\" class=\"data row3 col2\" >0.00</td>\n",
       "      <td id=\"T_2d3c2_row3_col3\" class=\"data row3 col3\" >0.00</td>\n",
       "      <td id=\"T_2d3c2_row3_col4\" class=\"data row3 col4\" >0.00</td>\n",
       "      <td id=\"T_2d3c2_row3_col5\" class=\"data row3 col5\" >0.00</td>\n",
       "      <td id=\"T_2d3c2_row3_col6\" class=\"data row3 col6\" >0.00</td>\n",
       "      <td id=\"T_2d3c2_row3_col7\" class=\"data row3 col7\" >0.00</td>\n",
       "      <td id=\"T_2d3c2_row3_col8\" class=\"data row3 col8\" >0.00</td>\n",
       "      <td id=\"T_2d3c2_row3_col9\" class=\"data row3 col9\" >0.00</td>\n",
       "      <td id=\"T_2d3c2_row3_col10\" class=\"data row3 col10\" >0.00</td>\n",
       "      <td id=\"T_2d3c2_row3_col11\" class=\"data row3 col11\" >0.00</td>\n",
       "      <td id=\"T_2d3c2_row3_col12\" class=\"data row3 col12\" >0.00</td>\n",
       "      <td id=\"T_2d3c2_row3_col13\" class=\"data row3 col13\" >0.00</td>\n",
       "      <td id=\"T_2d3c2_row3_col14\" class=\"data row3 col14\" >0.00</td>\n",
       "      <td id=\"T_2d3c2_row3_col15\" class=\"data row3 col15\" >0.00</td>\n",
       "      <td id=\"T_2d3c2_row3_col16\" class=\"data row3 col16\" >0.00</td>\n",
       "      <td id=\"T_2d3c2_row3_col17\" class=\"data row3 col17\" >0.00</td>\n",
       "      <td id=\"T_2d3c2_row3_col18\" class=\"data row3 col18\" >0.00</td>\n",
       "      <td id=\"T_2d3c2_row3_col19\" class=\"data row3 col19\" >0.00</td>\n",
       "      <td id=\"T_2d3c2_row3_col20\" class=\"data row3 col20\" >0.00</td>\n",
       "      <td id=\"T_2d3c2_row3_col21\" class=\"data row3 col21\" >0.00</td>\n",
       "      <td id=\"T_2d3c2_row3_col22\" class=\"data row3 col22\" >0.00</td>\n",
       "    </tr>\n",
       "    <tr>\n",
       "      <th id=\"T_2d3c2_level0_row4\" class=\"row_heading level0 row4\" >4</th>\n",
       "      <td id=\"T_2d3c2_row4_col0\" class=\"data row4 col0\" >0.00</td>\n",
       "      <td id=\"T_2d3c2_row4_col1\" class=\"data row4 col1\" >0.00</td>\n",
       "      <td id=\"T_2d3c2_row4_col2\" class=\"data row4 col2\" >0.00</td>\n",
       "      <td id=\"T_2d3c2_row4_col3\" class=\"data row4 col3\" >0.00</td>\n",
       "      <td id=\"T_2d3c2_row4_col4\" class=\"data row4 col4\" >0.00</td>\n",
       "      <td id=\"T_2d3c2_row4_col5\" class=\"data row4 col5\" >0.00</td>\n",
       "      <td id=\"T_2d3c2_row4_col6\" class=\"data row4 col6\" >0.00</td>\n",
       "      <td id=\"T_2d3c2_row4_col7\" class=\"data row4 col7\" >0.00</td>\n",
       "      <td id=\"T_2d3c2_row4_col8\" class=\"data row4 col8\" >0.00</td>\n",
       "      <td id=\"T_2d3c2_row4_col9\" class=\"data row4 col9\" >0.00</td>\n",
       "      <td id=\"T_2d3c2_row4_col10\" class=\"data row4 col10\" >0.00</td>\n",
       "      <td id=\"T_2d3c2_row4_col11\" class=\"data row4 col11\" >0.00</td>\n",
       "      <td id=\"T_2d3c2_row4_col12\" class=\"data row4 col12\" >0.00</td>\n",
       "      <td id=\"T_2d3c2_row4_col13\" class=\"data row4 col13\" >0.00</td>\n",
       "      <td id=\"T_2d3c2_row4_col14\" class=\"data row4 col14\" >0.00</td>\n",
       "      <td id=\"T_2d3c2_row4_col15\" class=\"data row4 col15\" >0.00</td>\n",
       "      <td id=\"T_2d3c2_row4_col16\" class=\"data row4 col16\" >0.00</td>\n",
       "      <td id=\"T_2d3c2_row4_col17\" class=\"data row4 col17\" >0.00</td>\n",
       "      <td id=\"T_2d3c2_row4_col18\" class=\"data row4 col18\" >0.00</td>\n",
       "      <td id=\"T_2d3c2_row4_col19\" class=\"data row4 col19\" >0.00</td>\n",
       "      <td id=\"T_2d3c2_row4_col20\" class=\"data row4 col20\" >0.00</td>\n",
       "      <td id=\"T_2d3c2_row4_col21\" class=\"data row4 col21\" >0.00</td>\n",
       "      <td id=\"T_2d3c2_row4_col22\" class=\"data row4 col22\" >0.00</td>\n",
       "    </tr>\n",
       "    <tr>\n",
       "      <th id=\"T_2d3c2_level0_row5\" class=\"row_heading level0 row5\" >5</th>\n",
       "      <td id=\"T_2d3c2_row5_col0\" class=\"data row5 col0\" >0.00</td>\n",
       "      <td id=\"T_2d3c2_row5_col1\" class=\"data row5 col1\" >0.00</td>\n",
       "      <td id=\"T_2d3c2_row5_col2\" class=\"data row5 col2\" >0.00</td>\n",
       "      <td id=\"T_2d3c2_row5_col3\" class=\"data row5 col3\" >0.00</td>\n",
       "      <td id=\"T_2d3c2_row5_col4\" class=\"data row5 col4\" >0.00</td>\n",
       "      <td id=\"T_2d3c2_row5_col5\" class=\"data row5 col5\" >0.00</td>\n",
       "      <td id=\"T_2d3c2_row5_col6\" class=\"data row5 col6\" >0.00</td>\n",
       "      <td id=\"T_2d3c2_row5_col7\" class=\"data row5 col7\" >0.00</td>\n",
       "      <td id=\"T_2d3c2_row5_col8\" class=\"data row5 col8\" >0.00</td>\n",
       "      <td id=\"T_2d3c2_row5_col9\" class=\"data row5 col9\" >0.00</td>\n",
       "      <td id=\"T_2d3c2_row5_col10\" class=\"data row5 col10\" >0.00</td>\n",
       "      <td id=\"T_2d3c2_row5_col11\" class=\"data row5 col11\" >0.00</td>\n",
       "      <td id=\"T_2d3c2_row5_col12\" class=\"data row5 col12\" >0.00</td>\n",
       "      <td id=\"T_2d3c2_row5_col13\" class=\"data row5 col13\" >0.00</td>\n",
       "      <td id=\"T_2d3c2_row5_col14\" class=\"data row5 col14\" >0.00</td>\n",
       "      <td id=\"T_2d3c2_row5_col15\" class=\"data row5 col15\" >0.00</td>\n",
       "      <td id=\"T_2d3c2_row5_col16\" class=\"data row5 col16\" >0.00</td>\n",
       "      <td id=\"T_2d3c2_row5_col17\" class=\"data row5 col17\" >0.00</td>\n",
       "      <td id=\"T_2d3c2_row5_col18\" class=\"data row5 col18\" >0.00</td>\n",
       "      <td id=\"T_2d3c2_row5_col19\" class=\"data row5 col19\" >0.00</td>\n",
       "      <td id=\"T_2d3c2_row5_col20\" class=\"data row5 col20\" >0.00</td>\n",
       "      <td id=\"T_2d3c2_row5_col21\" class=\"data row5 col21\" >0.00</td>\n",
       "      <td id=\"T_2d3c2_row5_col22\" class=\"data row5 col22\" >0.00</td>\n",
       "    </tr>\n",
       "    <tr>\n",
       "      <th id=\"T_2d3c2_level0_row6\" class=\"row_heading level0 row6\" >6</th>\n",
       "      <td id=\"T_2d3c2_row6_col0\" class=\"data row6 col0\" >0.00</td>\n",
       "      <td id=\"T_2d3c2_row6_col1\" class=\"data row6 col1\" >0.00</td>\n",
       "      <td id=\"T_2d3c2_row6_col2\" class=\"data row6 col2\" >0.00</td>\n",
       "      <td id=\"T_2d3c2_row6_col3\" class=\"data row6 col3\" >0.00</td>\n",
       "      <td id=\"T_2d3c2_row6_col4\" class=\"data row6 col4\" >0.00</td>\n",
       "      <td id=\"T_2d3c2_row6_col5\" class=\"data row6 col5\" >0.00</td>\n",
       "      <td id=\"T_2d3c2_row6_col6\" class=\"data row6 col6\" >0.00</td>\n",
       "      <td id=\"T_2d3c2_row6_col7\" class=\"data row6 col7\" >0.00</td>\n",
       "      <td id=\"T_2d3c2_row6_col8\" class=\"data row6 col8\" >0.00</td>\n",
       "      <td id=\"T_2d3c2_row6_col9\" class=\"data row6 col9\" >0.00</td>\n",
       "      <td id=\"T_2d3c2_row6_col10\" class=\"data row6 col10\" >0.00</td>\n",
       "      <td id=\"T_2d3c2_row6_col11\" class=\"data row6 col11\" >0.00</td>\n",
       "      <td id=\"T_2d3c2_row6_col12\" class=\"data row6 col12\" >0.08</td>\n",
       "      <td id=\"T_2d3c2_row6_col13\" class=\"data row6 col13\" >0.52</td>\n",
       "      <td id=\"T_2d3c2_row6_col14\" class=\"data row6 col14\" >0.99</td>\n",
       "      <td id=\"T_2d3c2_row6_col15\" class=\"data row6 col15\" >0.99</td>\n",
       "      <td id=\"T_2d3c2_row6_col16\" class=\"data row6 col16\" >0.24</td>\n",
       "      <td id=\"T_2d3c2_row6_col17\" class=\"data row6 col17\" >0.00</td>\n",
       "      <td id=\"T_2d3c2_row6_col18\" class=\"data row6 col18\" >0.00</td>\n",
       "      <td id=\"T_2d3c2_row6_col19\" class=\"data row6 col19\" >0.00</td>\n",
       "      <td id=\"T_2d3c2_row6_col20\" class=\"data row6 col20\" >0.00</td>\n",
       "      <td id=\"T_2d3c2_row6_col21\" class=\"data row6 col21\" >0.00</td>\n",
       "      <td id=\"T_2d3c2_row6_col22\" class=\"data row6 col22\" >0.00</td>\n",
       "    </tr>\n",
       "    <tr>\n",
       "      <th id=\"T_2d3c2_level0_row7\" class=\"row_heading level0 row7\" >7</th>\n",
       "      <td id=\"T_2d3c2_row7_col0\" class=\"data row7 col0\" >0.00</td>\n",
       "      <td id=\"T_2d3c2_row7_col1\" class=\"data row7 col1\" >0.00</td>\n",
       "      <td id=\"T_2d3c2_row7_col2\" class=\"data row7 col2\" >0.00</td>\n",
       "      <td id=\"T_2d3c2_row7_col3\" class=\"data row7 col3\" >0.00</td>\n",
       "      <td id=\"T_2d3c2_row7_col4\" class=\"data row7 col4\" >0.00</td>\n",
       "      <td id=\"T_2d3c2_row7_col5\" class=\"data row7 col5\" >0.00</td>\n",
       "      <td id=\"T_2d3c2_row7_col6\" class=\"data row7 col6\" >0.00</td>\n",
       "      <td id=\"T_2d3c2_row7_col7\" class=\"data row7 col7\" >0.00</td>\n",
       "      <td id=\"T_2d3c2_row7_col8\" class=\"data row7 col8\" >0.00</td>\n",
       "      <td id=\"T_2d3c2_row7_col9\" class=\"data row7 col9\" >0.00</td>\n",
       "      <td id=\"T_2d3c2_row7_col10\" class=\"data row7 col10\" >0.02</td>\n",
       "      <td id=\"T_2d3c2_row7_col11\" class=\"data row7 col11\" >0.32</td>\n",
       "      <td id=\"T_2d3c2_row7_col12\" class=\"data row7 col12\" >0.88</td>\n",
       "      <td id=\"T_2d3c2_row7_col13\" class=\"data row7 col13\" >0.99</td>\n",
       "      <td id=\"T_2d3c2_row7_col14\" class=\"data row7 col14\" >0.99</td>\n",
       "      <td id=\"T_2d3c2_row7_col15\" class=\"data row7 col15\" >0.99</td>\n",
       "      <td id=\"T_2d3c2_row7_col16\" class=\"data row7 col16\" >0.89</td>\n",
       "      <td id=\"T_2d3c2_row7_col17\" class=\"data row7 col17\" >0.17</td>\n",
       "      <td id=\"T_2d3c2_row7_col18\" class=\"data row7 col18\" >0.20</td>\n",
       "      <td id=\"T_2d3c2_row7_col19\" class=\"data row7 col19\" >0.03</td>\n",
       "      <td id=\"T_2d3c2_row7_col20\" class=\"data row7 col20\" >0.00</td>\n",
       "      <td id=\"T_2d3c2_row7_col21\" class=\"data row7 col21\" >0.00</td>\n",
       "      <td id=\"T_2d3c2_row7_col22\" class=\"data row7 col22\" >0.00</td>\n",
       "    </tr>\n",
       "    <tr>\n",
       "      <th id=\"T_2d3c2_level0_row8\" class=\"row_heading level0 row8\" >8</th>\n",
       "      <td id=\"T_2d3c2_row8_col0\" class=\"data row8 col0\" >0.00</td>\n",
       "      <td id=\"T_2d3c2_row8_col1\" class=\"data row8 col1\" >0.00</td>\n",
       "      <td id=\"T_2d3c2_row8_col2\" class=\"data row8 col2\" >0.00</td>\n",
       "      <td id=\"T_2d3c2_row8_col3\" class=\"data row8 col3\" >0.00</td>\n",
       "      <td id=\"T_2d3c2_row8_col4\" class=\"data row8 col4\" >0.00</td>\n",
       "      <td id=\"T_2d3c2_row8_col5\" class=\"data row8 col5\" >0.00</td>\n",
       "      <td id=\"T_2d3c2_row8_col6\" class=\"data row8 col6\" >0.00</td>\n",
       "      <td id=\"T_2d3c2_row8_col7\" class=\"data row8 col7\" >0.00</td>\n",
       "      <td id=\"T_2d3c2_row8_col8\" class=\"data row8 col8\" >0.00</td>\n",
       "      <td id=\"T_2d3c2_row8_col9\" class=\"data row8 col9\" >0.00</td>\n",
       "      <td id=\"T_2d3c2_row8_col10\" class=\"data row8 col10\" >0.58</td>\n",
       "      <td id=\"T_2d3c2_row8_col11\" class=\"data row8 col11\" >0.99</td>\n",
       "      <td id=\"T_2d3c2_row8_col12\" class=\"data row8 col12\" >0.99</td>\n",
       "      <td id=\"T_2d3c2_row8_col13\" class=\"data row8 col13\" >0.84</td>\n",
       "      <td id=\"T_2d3c2_row8_col14\" class=\"data row8 col14\" >0.43</td>\n",
       "      <td id=\"T_2d3c2_row8_col15\" class=\"data row8 col15\" >0.80</td>\n",
       "      <td id=\"T_2d3c2_row8_col16\" class=\"data row8 col16\" >0.99</td>\n",
       "      <td id=\"T_2d3c2_row8_col17\" class=\"data row8 col17\" >0.99</td>\n",
       "      <td id=\"T_2d3c2_row8_col18\" class=\"data row8 col18\" >0.99</td>\n",
       "      <td id=\"T_2d3c2_row8_col19\" class=\"data row8 col19\" >0.68</td>\n",
       "      <td id=\"T_2d3c2_row8_col20\" class=\"data row8 col20\" >0.00</td>\n",
       "      <td id=\"T_2d3c2_row8_col21\" class=\"data row8 col21\" >0.00</td>\n",
       "      <td id=\"T_2d3c2_row8_col22\" class=\"data row8 col22\" >0.00</td>\n",
       "    </tr>\n",
       "    <tr>\n",
       "      <th id=\"T_2d3c2_level0_row9\" class=\"row_heading level0 row9\" >9</th>\n",
       "      <td id=\"T_2d3c2_row9_col0\" class=\"data row9 col0\" >0.00</td>\n",
       "      <td id=\"T_2d3c2_row9_col1\" class=\"data row9 col1\" >0.00</td>\n",
       "      <td id=\"T_2d3c2_row9_col2\" class=\"data row9 col2\" >0.00</td>\n",
       "      <td id=\"T_2d3c2_row9_col3\" class=\"data row9 col3\" >0.00</td>\n",
       "      <td id=\"T_2d3c2_row9_col4\" class=\"data row9 col4\" >0.00</td>\n",
       "      <td id=\"T_2d3c2_row9_col5\" class=\"data row9 col5\" >0.00</td>\n",
       "      <td id=\"T_2d3c2_row9_col6\" class=\"data row9 col6\" >0.00</td>\n",
       "      <td id=\"T_2d3c2_row9_col7\" class=\"data row9 col7\" >0.00</td>\n",
       "      <td id=\"T_2d3c2_row9_col8\" class=\"data row9 col8\" >0.00</td>\n",
       "      <td id=\"T_2d3c2_row9_col9\" class=\"data row9 col9\" >0.47</td>\n",
       "      <td id=\"T_2d3c2_row9_col10\" class=\"data row9 col10\" >0.95</td>\n",
       "      <td id=\"T_2d3c2_row9_col11\" class=\"data row9 col11\" >0.99</td>\n",
       "      <td id=\"T_2d3c2_row9_col12\" class=\"data row9 col12\" >0.64</td>\n",
       "      <td id=\"T_2d3c2_row9_col13\" class=\"data row9 col13\" >0.05</td>\n",
       "      <td id=\"T_2d3c2_row9_col14\" class=\"data row9 col14\" >0.00</td>\n",
       "      <td id=\"T_2d3c2_row9_col15\" class=\"data row9 col15\" >0.04</td>\n",
       "      <td id=\"T_2d3c2_row9_col16\" class=\"data row9 col16\" >0.83</td>\n",
       "      <td id=\"T_2d3c2_row9_col17\" class=\"data row9 col17\" >0.99</td>\n",
       "      <td id=\"T_2d3c2_row9_col18\" class=\"data row9 col18\" >0.99</td>\n",
       "      <td id=\"T_2d3c2_row9_col19\" class=\"data row9 col19\" >0.68</td>\n",
       "      <td id=\"T_2d3c2_row9_col20\" class=\"data row9 col20\" >0.00</td>\n",
       "      <td id=\"T_2d3c2_row9_col21\" class=\"data row9 col21\" >0.00</td>\n",
       "      <td id=\"T_2d3c2_row9_col22\" class=\"data row9 col22\" >0.00</td>\n",
       "    </tr>\n",
       "    <tr>\n",
       "      <th id=\"T_2d3c2_level0_row10\" class=\"row_heading level0 row10\" >10</th>\n",
       "      <td id=\"T_2d3c2_row10_col0\" class=\"data row10 col0\" >0.00</td>\n",
       "      <td id=\"T_2d3c2_row10_col1\" class=\"data row10 col1\" >0.00</td>\n",
       "      <td id=\"T_2d3c2_row10_col2\" class=\"data row10 col2\" >0.00</td>\n",
       "      <td id=\"T_2d3c2_row10_col3\" class=\"data row10 col3\" >0.00</td>\n",
       "      <td id=\"T_2d3c2_row10_col4\" class=\"data row10 col4\" >0.00</td>\n",
       "      <td id=\"T_2d3c2_row10_col5\" class=\"data row10 col5\" >0.00</td>\n",
       "      <td id=\"T_2d3c2_row10_col6\" class=\"data row10 col6\" >0.00</td>\n",
       "      <td id=\"T_2d3c2_row10_col7\" class=\"data row10 col7\" >0.00</td>\n",
       "      <td id=\"T_2d3c2_row10_col8\" class=\"data row10 col8\" >0.32</td>\n",
       "      <td id=\"T_2d3c2_row10_col9\" class=\"data row10 col9\" >0.96</td>\n",
       "      <td id=\"T_2d3c2_row10_col10\" class=\"data row10 col10\" >0.99</td>\n",
       "      <td id=\"T_2d3c2_row10_col11\" class=\"data row10 col11\" >0.77</td>\n",
       "      <td id=\"T_2d3c2_row10_col12\" class=\"data row10 col12\" >0.07</td>\n",
       "      <td id=\"T_2d3c2_row10_col13\" class=\"data row10 col13\" >0.00</td>\n",
       "      <td id=\"T_2d3c2_row10_col14\" class=\"data row10 col14\" >0.00</td>\n",
       "      <td id=\"T_2d3c2_row10_col15\" class=\"data row10 col15\" >0.00</td>\n",
       "      <td id=\"T_2d3c2_row10_col16\" class=\"data row10 col16\" >0.71</td>\n",
       "      <td id=\"T_2d3c2_row10_col17\" class=\"data row10 col17\" >0.99</td>\n",
       "      <td id=\"T_2d3c2_row10_col18\" class=\"data row10 col18\" >0.99</td>\n",
       "      <td id=\"T_2d3c2_row10_col19\" class=\"data row10 col19\" >0.56</td>\n",
       "      <td id=\"T_2d3c2_row10_col20\" class=\"data row10 col20\" >0.00</td>\n",
       "      <td id=\"T_2d3c2_row10_col21\" class=\"data row10 col21\" >0.00</td>\n",
       "      <td id=\"T_2d3c2_row10_col22\" class=\"data row10 col22\" >0.00</td>\n",
       "    </tr>\n",
       "    <tr>\n",
       "      <th id=\"T_2d3c2_level0_row11\" class=\"row_heading level0 row11\" >11</th>\n",
       "      <td id=\"T_2d3c2_row11_col0\" class=\"data row11 col0\" >0.00</td>\n",
       "      <td id=\"T_2d3c2_row11_col1\" class=\"data row11 col1\" >0.00</td>\n",
       "      <td id=\"T_2d3c2_row11_col2\" class=\"data row11 col2\" >0.00</td>\n",
       "      <td id=\"T_2d3c2_row11_col3\" class=\"data row11 col3\" >0.00</td>\n",
       "      <td id=\"T_2d3c2_row11_col4\" class=\"data row11 col4\" >0.00</td>\n",
       "      <td id=\"T_2d3c2_row11_col5\" class=\"data row11 col5\" >0.00</td>\n",
       "      <td id=\"T_2d3c2_row11_col6\" class=\"data row11 col6\" >0.00</td>\n",
       "      <td id=\"T_2d3c2_row11_col7\" class=\"data row11 col7\" >0.07</td>\n",
       "      <td id=\"T_2d3c2_row11_col8\" class=\"data row11 col8\" >0.96</td>\n",
       "      <td id=\"T_2d3c2_row11_col9\" class=\"data row11 col9\" >0.99</td>\n",
       "      <td id=\"T_2d3c2_row11_col10\" class=\"data row11 col10\" >0.77</td>\n",
       "      <td id=\"T_2d3c2_row11_col11\" class=\"data row11 col11\" >0.07</td>\n",
       "      <td id=\"T_2d3c2_row11_col12\" class=\"data row11 col12\" >0.00</td>\n",
       "      <td id=\"T_2d3c2_row11_col13\" class=\"data row11 col13\" >0.00</td>\n",
       "      <td id=\"T_2d3c2_row11_col14\" class=\"data row11 col14\" >0.00</td>\n",
       "      <td id=\"T_2d3c2_row11_col15\" class=\"data row11 col15\" >0.46</td>\n",
       "      <td id=\"T_2d3c2_row11_col16\" class=\"data row11 col16\" >0.98</td>\n",
       "      <td id=\"T_2d3c2_row11_col17\" class=\"data row11 col17\" >0.99</td>\n",
       "      <td id=\"T_2d3c2_row11_col18\" class=\"data row11 col18\" >0.99</td>\n",
       "      <td id=\"T_2d3c2_row11_col19\" class=\"data row11 col19\" >0.29</td>\n",
       "      <td id=\"T_2d3c2_row11_col20\" class=\"data row11 col20\" >0.00</td>\n",
       "      <td id=\"T_2d3c2_row11_col21\" class=\"data row11 col21\" >0.00</td>\n",
       "      <td id=\"T_2d3c2_row11_col22\" class=\"data row11 col22\" >0.00</td>\n",
       "    </tr>\n",
       "    <tr>\n",
       "      <th id=\"T_2d3c2_level0_row12\" class=\"row_heading level0 row12\" >12</th>\n",
       "      <td id=\"T_2d3c2_row12_col0\" class=\"data row12 col0\" >0.00</td>\n",
       "      <td id=\"T_2d3c2_row12_col1\" class=\"data row12 col1\" >0.00</td>\n",
       "      <td id=\"T_2d3c2_row12_col2\" class=\"data row12 col2\" >0.00</td>\n",
       "      <td id=\"T_2d3c2_row12_col3\" class=\"data row12 col3\" >0.00</td>\n",
       "      <td id=\"T_2d3c2_row12_col4\" class=\"data row12 col4\" >0.00</td>\n",
       "      <td id=\"T_2d3c2_row12_col5\" class=\"data row12 col5\" >0.00</td>\n",
       "      <td id=\"T_2d3c2_row12_col6\" class=\"data row12 col6\" >0.00</td>\n",
       "      <td id=\"T_2d3c2_row12_col7\" class=\"data row12 col7\" >0.36</td>\n",
       "      <td id=\"T_2d3c2_row12_col8\" class=\"data row12 col8\" >0.99</td>\n",
       "      <td id=\"T_2d3c2_row12_col9\" class=\"data row12 col9\" >0.99</td>\n",
       "      <td id=\"T_2d3c2_row12_col10\" class=\"data row12 col10\" >0.27</td>\n",
       "      <td id=\"T_2d3c2_row12_col11\" class=\"data row12 col11\" >0.00</td>\n",
       "      <td id=\"T_2d3c2_row12_col12\" class=\"data row12 col12\" >0.00</td>\n",
       "      <td id=\"T_2d3c2_row12_col13\" class=\"data row12 col13\" >0.00</td>\n",
       "      <td id=\"T_2d3c2_row12_col14\" class=\"data row12 col14\" >0.30</td>\n",
       "      <td id=\"T_2d3c2_row12_col15\" class=\"data row12 col15\" >0.99</td>\n",
       "      <td id=\"T_2d3c2_row12_col16\" class=\"data row12 col16\" >0.99</td>\n",
       "      <td id=\"T_2d3c2_row12_col17\" class=\"data row12 col17\" >0.99</td>\n",
       "      <td id=\"T_2d3c2_row12_col18\" class=\"data row12 col18\" >0.99</td>\n",
       "      <td id=\"T_2d3c2_row12_col19\" class=\"data row12 col19\" >0.29</td>\n",
       "      <td id=\"T_2d3c2_row12_col20\" class=\"data row12 col20\" >0.00</td>\n",
       "      <td id=\"T_2d3c2_row12_col21\" class=\"data row12 col21\" >0.00</td>\n",
       "      <td id=\"T_2d3c2_row12_col22\" class=\"data row12 col22\" >0.00</td>\n",
       "    </tr>\n",
       "  </tbody>\n",
       "</table>\n"
      ],
      "text/plain": [
       "<pandas.io.formats.style.Styler at 0x7f5e83faf4f0>"
      ]
     },
     "execution_count": 42,
     "metadata": {},
     "output_type": "execute_result"
    }
   ],
   "source": [
    "df = pd.DataFrame(im3[:13, :23])\n",
    "df.style.format(precision=2).set_properties(**{'font-size':'7pt'}).background_gradient('Greys')"
   ]
  },
  {
   "cell_type": "code",
   "execution_count": 43,
   "id": "74dcf1f9",
   "metadata": {},
   "outputs": [
    {
     "data": {
      "text/plain": [
       "torch.Size([3, 3])"
      ]
     },
     "execution_count": 43,
     "metadata": {},
     "output_type": "execute_result"
    }
   ],
   "source": [
    "top_edge.shape"
   ]
  },
  {
   "cell_type": "code",
   "execution_count": 44,
   "id": "674fb842",
   "metadata": {},
   "outputs": [
    {
     "data": {
      "text/plain": [
       "(torch.Size([28, 28]), torch.Size([3, 3]))"
      ]
     },
     "execution_count": 44,
     "metadata": {},
     "output_type": "execute_result"
    }
   ],
   "source": [
    "im3.shape, im3[4:7, 13:16].shape"
   ]
  },
  {
   "cell_type": "code",
   "execution_count": 45,
   "id": "5a553c34",
   "metadata": {},
   "outputs": [
    {
     "data": {
      "text/plain": [
       "tensor(2.5039)"
      ]
     },
     "execution_count": 45,
     "metadata": {},
     "output_type": "execute_result"
    }
   ],
   "source": [
    "(im3[4:7, 13:16] * top_edge).sum()"
   ]
  },
  {
   "cell_type": "code",
   "execution_count": 46,
   "id": "f19c7ec2",
   "metadata": {},
   "outputs": [],
   "source": [
    "normalized_top_edge = (top_edge - torch.min(top_edge)) / (torch.max(top_edge) - torch.min(top_edge))"
   ]
  },
  {
   "cell_type": "code",
   "execution_count": 47,
   "id": "29c99f58",
   "metadata": {},
   "outputs": [
    {
     "data": {
      "text/plain": [
       "<Axes: >"
      ]
     },
     "execution_count": 47,
     "metadata": {},
     "output_type": "execute_result"
    },
    {
     "data": {
      "image/png": "[encoded data removed]",
      "text/plain": [
       "<Figure size 192x144 with 1 Axes>"
      ]
     },
     "metadata": {},
     "output_type": "display_data"
    }
   ],
   "source": [
    "show_image(normalized_top_edge, noframe=False)"
   ]
  },
  {
   "cell_type": "code",
   "execution_count": 48,
   "id": "76f5d15a",
   "metadata": {},
   "outputs": [
    {
     "data": {
      "text/plain": [
       "tensor(-1.)"
      ]
     },
     "execution_count": 48,
     "metadata": {},
     "output_type": "execute_result"
    }
   ],
   "source": [
    "torch.min(top_edge)"
   ]
  },
  {
   "cell_type": "code",
   "execution_count": 49,
   "id": "c5e0762f",
   "metadata": {},
   "outputs": [
    {
     "data": {
      "text/plain": [
       "tensor(-2.8750)"
      ]
     },
     "execution_count": 49,
     "metadata": {},
     "output_type": "execute_result"
    }
   ],
   "source": [
    "(im3[7:10,13:16] * top_edge).sum()"
   ]
  },
  {
   "cell_type": "code",
   "execution_count": 192,
   "id": "625d4ef6",
   "metadata": {},
   "outputs": [
    {
     "data": {
      "text/plain": [
       "tensor([[-0.9883, -0.9883, -0.9883],\n",
       "        [ 0.0000,  0.0000,  0.0000],\n",
       "        [ 0.0547,  0.0000,  0.0352]])"
      ]
     },
     "execution_count": 192,
     "metadata": {},
     "output_type": "execute_result"
    }
   ],
   "source": [
    "(im3[7:10,13:16]* top_edge)#.sum(axis=0)"
   ]
  },
  {
   "cell_type": "code",
   "execution_count": 50,
   "id": "be5d9abe",
   "metadata": {},
   "outputs": [],
   "source": [
    "def apply_kernel(row, col, kernel):\n",
    "    return (im3[row-1:row+2, col-1:col+2] * kernel).sum()"
   ]
  },
  {
   "cell_type": "code",
   "execution_count": 51,
   "id": "57e688d7",
   "metadata": {},
   "outputs": [
    {
     "data": {
      "text/plain": [
       "tensor(-2.8750)"
      ]
     },
     "execution_count": 51,
     "metadata": {},
     "output_type": "execute_result"
    }
   ],
   "source": [
    "apply_kernel(8, 14, top_edge)"
   ]
  },
  {
   "cell_type": "code",
   "execution_count": 52,
   "id": "b3654574",
   "metadata": {},
   "outputs": [
    {
     "data": {
      "text/plain": [
       "[[(0, 0), (0, 1), (0, 2), (0, 3), (0, 4)],\n",
       " [(1, 0), (1, 1), (1, 2), (1, 3), (1, 4)],\n",
       " [(2, 0), (2, 1), (2, 2), (2, 3), (2, 4)],\n",
       " [(3, 0), (3, 1), (3, 2), (3, 3), (3, 4)],\n",
       " [(4, 0), (4, 1), (4, 2), (4, 3), (4, 4)]]"
      ]
     },
     "execution_count": 52,
     "metadata": {},
     "output_type": "execute_result"
    }
   ],
   "source": [
    "# get coordinates over which to convolute\n",
    "\n",
    "[[(i,j) for j in range(5)] for i in range(5)]"
   ]
  },
  {
   "cell_type": "code",
   "execution_count": 53,
   "id": "e522fdf8",
   "metadata": {},
   "outputs": [
    {
     "data": {
      "text/plain": [
       "<Axes: >"
      ]
     },
     "execution_count": 53,
     "metadata": {},
     "output_type": "execute_result"
    },
    {
     "data": {
      "image/png": "[encoded data removed]",
      "text/plain": [
       "<Figure size 192x144 with 1 Axes>"
      ]
     },
     "metadata": {},
     "output_type": "display_data"
    }
   ],
   "source": [
    "rng = range(1, 27)\n",
    "top_edge3 = tensor([[apply_kernel(i, j, top_edge) for j in rng] for i in rng])\n",
    "\n",
    "show_image(top_edge3)"
   ]
  },
  {
   "cell_type": "code",
   "execution_count": 54,
   "id": "ccf76578",
   "metadata": {},
   "outputs": [],
   "source": [
    "left_edge = tensor([[-1, 0, 1],\n",
    "                    [-1, 0, 1],\n",
    "                    [-1, 0, 1]]).float()"
   ]
  },
  {
   "cell_type": "code",
   "execution_count": 55,
   "id": "220341b8",
   "metadata": {},
   "outputs": [
    {
     "data": {
      "text/plain": [
       "<Axes: >"
      ]
     },
     "execution_count": 55,
     "metadata": {},
     "output_type": "execute_result"
    },
    {
     "data": {
      "image/png": "[encoded data removed]",
      "text/plain": [
       "<Figure size 192x144 with 1 Axes>"
      ]
     },
     "metadata": {},
     "output_type": "display_data"
    }
   ],
   "source": [
    "left_edge9 = tensor([[apply_kernel(i, j, left_edge) for j in rng] for i in rng])\n",
    "\n",
    "show_image(left_edge9)"
   ]
  },
  {
   "cell_type": "code",
   "execution_count": 56,
   "id": "d66c2c90",
   "metadata": {},
   "outputs": [],
   "source": [
    "right_edge = tensor([[1, 0, -1],\n",
    "                    [1, 0, -1],\n",
    "                    [1, 0, -1]]).float()"
   ]
  },
  {
   "cell_type": "code",
   "execution_count": 57,
   "id": "4edf48e1",
   "metadata": {},
   "outputs": [
    {
     "data": {
      "text/plain": [
       "<Axes: >"
      ]
     },
     "execution_count": 57,
     "metadata": {},
     "output_type": "execute_result"
    },
    {
     "data": {
      "image/png": "[encoded data removed]",
      "text/plain": [
       "<Figure size 192x144 with 1 Axes>"
      ]
     },
     "metadata": {},
     "output_type": "display_data"
    }
   ],
   "source": [
    "right_edge9 = tensor([[apply_kernel(i, j, right_edge) for j in rng] for i in rng])\n",
    "\n",
    "show_image(right_edge9)"
   ]
  },
  {
   "cell_type": "code",
   "execution_count": 58,
   "id": "c140964f",
   "metadata": {},
   "outputs": [
    {
     "data": {
      "text/plain": [
       "<Axes: >"
      ]
     },
     "execution_count": 58,
     "metadata": {},
     "output_type": "execute_result"
    },
    {
     "data": {
      "image/png": "[encoded data removed]",
      "text/plain": [
       "<Figure size 192x144 with 1 Axes>"
      ]
     },
     "metadata": {},
     "output_type": "display_data"
    }
   ],
   "source": [
    "show_image(right_edge, noframe=False)"
   ]
  },
  {
   "cell_type": "code",
   "execution_count": 59,
   "id": "e0dccf57",
   "metadata": {},
   "outputs": [
    {
     "data": {
      "text/plain": [
       "<Axes: >"
      ]
     },
     "execution_count": 59,
     "metadata": {},
     "output_type": "execute_result"
    },
    {
     "data": {
      "image/png": "[encoded data removed]",
      "text/plain": [
       "<Figure size 192x144 with 1 Axes>"
      ]
     },
     "metadata": {},
     "output_type": "display_data"
    }
   ],
   "source": [
    "show_image(left_edge, noframe=False)"
   ]
  },
  {
   "cell_type": "code",
   "execution_count": 60,
   "id": "0c0f5665",
   "metadata": {},
   "outputs": [
    {
     "data": {
      "text/plain": [
       "<Axes: >"
      ]
     },
     "execution_count": 60,
     "metadata": {},
     "output_type": "execute_result"
    },
    {
     "data": {
      "image/png": "[encoded data removed]",
      "text/plain": [
       "<Figure size 192x144 with 1 Axes>"
      ]
     },
     "metadata": {},
     "output_type": "display_data"
    }
   ],
   "source": [
    "bottom_edge = tensor([[1, 1, 1],\n",
    "                      [0, 0, 0],\n",
    "                      [-1, -1, -1]]).float()\n",
    "show_image(bottom_edge, noframe=False)"
   ]
  },
  {
   "cell_type": "code",
   "execution_count": 61,
   "id": "68185d26",
   "metadata": {},
   "outputs": [
    {
     "data": {
      "text/plain": [
       "<Axes: >"
      ]
     },
     "execution_count": 61,
     "metadata": {},
     "output_type": "execute_result"
    },
    {
     "data": {
      "image/png": "[encoded data removed]",
      "text/plain": [
       "<Figure size 192x144 with 1 Axes>"
      ]
     },
     "metadata": {},
     "output_type": "display_data"
    }
   ],
   "source": [
    "bottom_edge9 = tensor([[apply_kernel(i, j, bottom_edge) for j in rng] for i in rng])\n",
    "\n",
    "show_image(bottom_edge9)"
   ]
  },
  {
   "cell_type": "code",
   "execution_count": 62,
   "id": "5d7ab1ba",
   "metadata": {},
   "outputs": [],
   "source": [
    "import torch\n",
    "import torch.nn.functional as F"
   ]
  },
  {
   "cell_type": "code",
   "execution_count": 63,
   "id": "a9df1153",
   "metadata": {},
   "outputs": [
    {
     "data": {
      "text/plain": [
       "torch.Size([28, 28])"
      ]
     },
     "execution_count": 63,
     "metadata": {},
     "output_type": "execute_result"
    }
   ],
   "source": [
    "im3.shape"
   ]
  },
  {
   "cell_type": "code",
   "execution_count": 64,
   "id": "7fc0bc6b",
   "metadata": {},
   "outputs": [],
   "source": [
    "inp = im3[None, None, :, :].float()\n",
    "inp_unf = F.unfold(inp, (3, 3))[0]\n",
    "inp_unf2 = F.unfold(inp, 3)[0]"
   ]
  },
  {
   "cell_type": "code",
   "execution_count": 79,
   "id": "282eb9d0",
   "metadata": {},
   "outputs": [
    {
     "data": {
      "text/plain": [
       "(torch.Size([1, 1, 28, 28]), torch.Size([9, 676]), torch.Size([9, 676]))"
      ]
     },
     "execution_count": 79,
     "metadata": {},
     "output_type": "execute_result"
    }
   ],
   "source": [
    "inp.shape, inp_unf.shape, inp_unf2.shape"
   ]
  },
  {
   "cell_type": "code",
   "execution_count": 66,
   "id": "ed6a3007",
   "metadata": {},
   "outputs": [
    {
     "data": {
      "text/plain": [
       "True"
      ]
     },
     "execution_count": 66,
     "metadata": {},
     "output_type": "execute_result"
    }
   ],
   "source": [
    "torch.allclose(inp_unf, inp_unf2)"
   ]
  },
  {
   "cell_type": "code",
   "execution_count": 67,
   "id": "68978a0b",
   "metadata": {},
   "outputs": [
    {
     "data": {
      "text/plain": [
       "torch.Size([3, 3])"
      ]
     },
     "execution_count": 67,
     "metadata": {},
     "output_type": "execute_result"
    }
   ],
   "source": [
    "left_edge.shape"
   ]
  },
  {
   "cell_type": "code",
   "execution_count": 68,
   "id": "8d778f28",
   "metadata": {},
   "outputs": [
    {
     "data": {
      "text/plain": [
       "torch.Size([9])"
      ]
     },
     "execution_count": 68,
     "metadata": {},
     "output_type": "execute_result"
    }
   ],
   "source": [
    "w = left_edge.view(-1)\n",
    "w.shape"
   ]
  },
  {
   "cell_type": "code",
   "execution_count": 69,
   "id": "e5266edc",
   "metadata": {},
   "outputs": [
    {
     "data": {
      "text/plain": [
       "torch.Size([676])"
      ]
     },
     "execution_count": 69,
     "metadata": {},
     "output_type": "execute_result"
    }
   ],
   "source": [
    "out_unf = w@inp_unf\n",
    "out_unf.shape"
   ]
  },
  {
   "cell_type": "code",
   "execution_count": 70,
   "id": "656b5541",
   "metadata": {},
   "outputs": [
    {
     "data": {
      "text/plain": [
       "<Axes: >"
      ]
     },
     "execution_count": 70,
     "metadata": {},
     "output_type": "execute_result"
    },
    {
     "data": {
      "image/png": "[encoded data removed]",
      "text/plain": [
       "<Figure size 192x144 with 1 Axes>"
      ]
     },
     "metadata": {},
     "output_type": "display_data"
    }
   ],
   "source": [
    "out = out_unf.view(26, -1)\n",
    "show_image(out)"
   ]
  },
  {
   "cell_type": "code",
   "execution_count": 71,
   "id": "bca631d7",
   "metadata": {},
   "outputs": [
    {
     "data": {
      "text/plain": [
       "<Axes: >"
      ]
     },
     "execution_count": 71,
     "metadata": {},
     "output_type": "execute_result"
    },
    {
     "data": {
      "image/png": "[encoded data removed]",
      "text/plain": [
       "<Figure size 192x144 with 1 Axes>"
      ]
     },
     "metadata": {},
     "output_type": "display_data"
    }
   ],
   "source": [
    "left_edge9 = tensor([[apply_kernel(i, j, left_edge) for j in rng] for i in rng])\n",
    "\n",
    "show_image(left_edge9)"
   ]
  },
  {
   "cell_type": "code",
   "execution_count": 72,
   "id": "86af435e",
   "metadata": {},
   "outputs": [
    {
     "data": {
      "text/plain": [
       "True"
      ]
     },
     "execution_count": 72,
     "metadata": {},
     "output_type": "execute_result"
    }
   ],
   "source": [
    "torch.allclose(out, left_edge9)"
   ]
  },
  {
   "cell_type": "code",
   "execution_count": 73,
   "id": "1da2615e",
   "metadata": {},
   "outputs": [
    {
     "data": {
      "text/plain": [
       "(torch.Size([26, 26]), torch.Size([26, 26]))"
      ]
     },
     "execution_count": 73,
     "metadata": {},
     "output_type": "execute_result"
    }
   ],
   "source": [
    "out.shape, left_edge9.shape"
   ]
  },
  {
   "cell_type": "code",
   "execution_count": 74,
   "id": "ae5fb32a",
   "metadata": {},
   "outputs": [
    {
     "data": {
      "text/plain": [
       "torch.Size([1, 1, 28, 28])"
      ]
     },
     "execution_count": 74,
     "metadata": {},
     "output_type": "execute_result"
    }
   ],
   "source": [
    "inp.shape"
   ]
  },
  {
   "cell_type": "code",
   "execution_count": 75,
   "id": "27a4782e",
   "metadata": {},
   "outputs": [
    {
     "data": {
      "text/plain": [
       "torch.Size([3, 3])"
      ]
     },
     "execution_count": 75,
     "metadata": {},
     "output_type": "execute_result"
    }
   ],
   "source": [
    "left_edge.shape"
   ]
  },
  {
   "cell_type": "code",
   "execution_count": 76,
   "id": "0436b7f3",
   "metadata": {},
   "outputs": [
    {
     "data": {
      "text/plain": [
       "torch.Size([1, 1, 3, 3])"
      ]
     },
     "execution_count": 76,
     "metadata": {},
     "output_type": "execute_result"
    }
   ],
   "source": [
    "left_edge[None, None].shape"
   ]
  },
  {
   "cell_type": "code",
   "execution_count": 78,
   "id": "d24b6b47",
   "metadata": {},
   "outputs": [],
   "source": [
    "out_conv = F.conv2d(inp, left_edge[None, None])"
   ]
  },
  {
   "cell_type": "code",
   "execution_count": 81,
   "id": "2cd96a98",
   "metadata": {},
   "outputs": [],
   "source": [
    "hello=1\n",
    "del hello"
   ]
  },
  {
   "cell_type": "code",
   "execution_count": 90,
   "id": "28b52ea0",
   "metadata": {},
   "outputs": [
    {
     "data": {
      "text/plain": [
       "torch.Size([16, 28, 28])"
      ]
     },
     "execution_count": 90,
     "metadata": {},
     "output_type": "execute_result"
    }
   ],
   "source": [
    "xb = x_imgs[:16]\n",
    "xb.shape"
   ]
  },
  {
   "cell_type": "code",
   "execution_count": 91,
   "id": "25d7b288",
   "metadata": {},
   "outputs": [
    {
     "data": {
      "text/plain": [
       "torch.Size([16, 1, 28, 28])"
      ]
     },
     "execution_count": 91,
     "metadata": {},
     "output_type": "execute_result"
    }
   ],
   "source": [
    "xb = xb[:, None]\n",
    "xb.shape"
   ]
  },
  {
   "cell_type": "code",
   "execution_count": 94,
   "id": "9f236c13",
   "metadata": {},
   "outputs": [
    {
     "data": {
      "text/plain": [
       "<Axes: >"
      ]
     },
     "execution_count": 94,
     "metadata": {},
     "output_type": "execute_result"
    },
    {
     "data": {
      "image/png": "[encoded data removed]",
      "text/plain": [
       "<Figure size 192x144 with 1 Axes>"
      ]
     },
     "metadata": {},
     "output_type": "display_data"
    }
   ],
   "source": [
    "diag1_edge = tensor([[0, -1, 1],\n",
    "                     [-1, 1, 0],\n",
    "                     [1, 0, 0]]).float()\n",
    "\n",
    "show_image(diag1_edge, noframe=False)"
   ]
  },
  {
   "cell_type": "code",
   "execution_count": 95,
   "id": "178508f8",
   "metadata": {},
   "outputs": [
    {
     "data": {
      "text/plain": [
       "<Axes: >"
      ]
     },
     "execution_count": 95,
     "metadata": {},
     "output_type": "execute_result"
    },
    {
     "data": {
      "image/png": "[encoded data removed]",
      "text/plain": [
       "<Figure size 192x144 with 1 Axes>"
      ]
     },
     "metadata": {},
     "output_type": "display_data"
    }
   ],
   "source": [
    "diag2_edge = tensor([[0, -1, 1],\n",
    "                     [-1, 1, 0],\n",
    "                     [1, 0, 0]]).float()\n",
    "\n",
    "show_image(diag2_edge, noframe=False)"
   ]
  },
  {
   "cell_type": "code",
   "execution_count": 97,
   "id": "9d9720d2",
   "metadata": {},
   "outputs": [
    {
     "data": {
      "text/plain": [
       "torch.Size([4, 1, 3, 3])"
      ]
     },
     "execution_count": 97,
     "metadata": {},
     "output_type": "execute_result"
    }
   ],
   "source": [
    "edge_kernels = torch.stack([left_edge, top_edge, diag1_edge, diag2_edge])[:, None]\n",
    "edge_kernels.shape"
   ]
  },
  {
   "cell_type": "code",
   "execution_count": 98,
   "id": "b4e876db",
   "metadata": {},
   "outputs": [],
   "source": [
    "batch_features = F.conv2d(xb, edge_kernels)"
   ]
  },
  {
   "cell_type": "code",
   "execution_count": 99,
   "id": "d1872d64",
   "metadata": {},
   "outputs": [
    {
     "data": {
      "text/plain": [
       "torch.Size([16, 4, 26, 26])"
      ]
     },
     "execution_count": 99,
     "metadata": {},
     "output_type": "execute_result"
    }
   ],
   "source": [
    "batch_features.shape"
   ]
  },
  {
   "cell_type": "code",
   "execution_count": null,
   "id": "b9770b62",
   "metadata": {},
   "outputs": [],
   "source": []
  },
  {
   "cell_type": "code",
   "execution_count": 102,
   "id": "533240fc",
   "metadata": {},
   "outputs": [
    {
     "data": {
      "text/plain": [
       "torch.Size([16, 1, 28, 28])"
      ]
     },
     "execution_count": 102,
     "metadata": {},
     "output_type": "execute_result"
    }
   ],
   "source": [
    "xb.shape"
   ]
  },
  {
   "cell_type": "code",
   "execution_count": 108,
   "id": "1a68841f",
   "metadata": {},
   "outputs": [
    {
     "data": {
      "text/plain": [
       "True"
      ]
     },
     "execution_count": 108,
     "metadata": {},
     "output_type": "execute_result"
    }
   ],
   "source": [
    "torch.allclose(xb[1][0], xb[1, 0])"
   ]
  },
  {
   "cell_type": "code",
   "execution_count": 109,
   "id": "7e742a19",
   "metadata": {},
   "outputs": [
    {
     "data": {
      "image/png": "[encoded data removed]",
      "text/plain": [
       "<Figure size 180x180 with 4 Axes>"
      ]
     },
     "metadata": {},
     "output_type": "display_data"
    }
   ],
   "source": [
    "show_images([batch_features[1, i] for i in range(4)])"
   ]
  },
  {
   "cell_type": "code",
   "execution_count": null,
   "id": "7d7e6d34",
   "metadata": {},
   "outputs": [],
   "source": []
  },
  {
   "cell_type": "code",
   "execution_count": null,
   "id": "884d768f",
   "metadata": {},
   "outputs": [],
   "source": []
  },
  {
   "cell_type": "code",
   "execution_count": 110,
   "id": "cbb718f4",
   "metadata": {},
   "outputs": [
    {
     "data": {
      "text/plain": [
       "torch.Size([50000, 784])"
      ]
     },
     "execution_count": 110,
     "metadata": {},
     "output_type": "execute_result"
    }
   ],
   "source": [
    "x_train.shape"
   ]
  },
  {
   "cell_type": "code",
   "execution_count": 113,
   "id": "69f19d5c",
   "metadata": {},
   "outputs": [],
   "source": [
    "n, m = x_train.shape"
   ]
  },
  {
   "cell_type": "code",
   "execution_count": 118,
   "id": "40a1abbe",
   "metadata": {},
   "outputs": [
    {
     "data": {
      "text/plain": [
       "tensor(10)"
      ]
     },
     "execution_count": 118,
     "metadata": {},
     "output_type": "execute_result"
    }
   ],
   "source": [
    "c = y_train.max()+1\n",
    "c"
   ]
  },
  {
   "cell_type": "code",
   "execution_count": 119,
   "id": "ea768445",
   "metadata": {},
   "outputs": [],
   "source": [
    "nh = 50"
   ]
  },
  {
   "cell_type": "code",
   "execution_count": 120,
   "id": "de44caa9",
   "metadata": {},
   "outputs": [],
   "source": [
    "model = nn.Sequential(\n",
    "    nn.Linear(m, nh),\n",
    "    nn.ReLU(),\n",
    "    nn.Linear(nh, c)\n",
    ")"
   ]
  },
  {
   "cell_type": "code",
   "execution_count": 121,
   "id": "a48d1be4",
   "metadata": {},
   "outputs": [],
   "source": [
    "broken_cnn = nn.Sequential(\n",
    "    nn.Conv2d(1, 30, kernel_size=3, padding=1),\n",
    "    nn.ReLU(),\n",
    "    nn.Conv2d(30, 10, kernel_size=3, padding=1)\n",
    ")"
   ]
  },
  {
   "cell_type": "code",
   "execution_count": 122,
   "id": "ddcfbf91",
   "metadata": {},
   "outputs": [
    {
     "data": {
      "text/plain": [
       "torch.Size([16, 10, 28, 28])"
      ]
     },
     "execution_count": 122,
     "metadata": {},
     "output_type": "execute_result"
    }
   ],
   "source": [
    "broken_cnn(xb).shape"
   ]
  },
  {
   "cell_type": "code",
   "execution_count": 135,
   "id": "6a955bdf",
   "metadata": {},
   "outputs": [],
   "source": [
    "def conv(ni, nf, ks=3, stride=2, act=True):\n",
    "    res = nn.Conv2d(ni, nf, kernel_size=ks, stride=stride, padding=ks//2)\n",
    "    if act: res = nn.Sequential(res, nn.ReLU())\n",
    "#     print(res.shape)\n",
    "    return res"
   ]
  },
  {
   "cell_type": "code",
   "execution_count": 136,
   "id": "9fdc5211",
   "metadata": {},
   "outputs": [
    {
     "data": {
      "text/plain": [
       "torch.Size([16, 1, 28, 28])"
      ]
     },
     "execution_count": 136,
     "metadata": {},
     "output_type": "execute_result"
    }
   ],
   "source": [
    "xb.shape"
   ]
  },
  {
   "cell_type": "code",
   "execution_count": 137,
   "id": "999c9a6e",
   "metadata": {},
   "outputs": [],
   "source": [
    "simple_cnn = nn.Sequential(\n",
    "    conv(1, 4),                # (28 - 3 + 2) // 2 + 1 = 14x14\n",
    "    conv(4, 8),                # (14 - 3 + 2) // 2 + 1 = 7x7\n",
    "    conv(8, 16),               # (7 - 3 + 2) // 2 + 1  = 4x4\n",
    "    conv(16, 16),              # (4 - 3 + 2) // 2 + 1  = 2x2\n",
    "    conv(16, 10, act=False),   # (2 - 3 + 2) // 2 + 1 =  1x1 \n",
    "    nn.Flatten(),\n",
    ")"
   ]
  },
  {
   "cell_type": "code",
   "execution_count": 138,
   "id": "63cfa51d",
   "metadata": {},
   "outputs": [
    {
     "data": {
      "text/plain": [
       "torch.Size([16, 10])"
      ]
     },
     "execution_count": 138,
     "metadata": {},
     "output_type": "execute_result"
    }
   ],
   "source": [
    "simple_cnn(xb).shape"
   ]
  },
  {
   "cell_type": "code",
   "execution_count": 139,
   "id": "e3b4225b",
   "metadata": {},
   "outputs": [],
   "source": [
    "x_imgs = x_train.view(-1, 1, 28, 28)\n",
    "xv_imgs = x_valid.view(-1, 1, 28, 28)\n",
    "train_ds, valid_ds = Dataset(x_imgs, y_train), Dataset(xv_imgs, y_valid)"
   ]
  },
  {
   "cell_type": "code",
   "execution_count": 154,
   "id": "55bed69c",
   "metadata": {},
   "outputs": [
    {
     "data": {
      "text/plain": [
       "torch.Size([1, 28, 28])"
      ]
     },
     "execution_count": 154,
     "metadata": {},
     "output_type": "execute_result"
    }
   ],
   "source": [
    "next(iter(train_ds))[0].shape"
   ]
  },
  {
   "cell_type": "code",
   "execution_count": 164,
   "id": "0458ffca",
   "metadata": {},
   "outputs": [],
   "source": [
    "def_device = 'cuda' if torch.cuda.is_available() else 'cpu'"
   ]
  },
  {
   "cell_type": "code",
   "execution_count": 157,
   "id": "954d8c72",
   "metadata": {},
   "outputs": [
    {
     "data": {
      "text/plain": [
       "'cuda'"
      ]
     },
     "execution_count": 157,
     "metadata": {},
     "output_type": "execute_result"
    }
   ],
   "source": [
    "device"
   ]
  },
  {
   "cell_type": "code",
   "execution_count": 165,
   "id": "6616f8dd",
   "metadata": {},
   "outputs": [],
   "source": [
    "def to_device(x, device=def_device):\n",
    "    if isinstance(x, torch.Tensor): return x.to(device)\n",
    "    if isinstance(x, Mapping): return {k: v.to(device) for k, v in x.items()}\n",
    "    return type(x)(to_device(o, device) for o in x)"
   ]
  },
  {
   "cell_type": "code",
   "execution_count": 166,
   "id": "bf5dc6b5",
   "metadata": {},
   "outputs": [],
   "source": [
    "def collate_device(b):\n",
    "    return to_device(default_collate(b))"
   ]
  },
  {
   "cell_type": "code",
   "execution_count": 160,
   "id": "a83ca5e5",
   "metadata": {},
   "outputs": [],
   "source": [
    "default_collate??"
   ]
  },
  {
   "cell_type": "code",
   "execution_count": 161,
   "id": "3807bf04",
   "metadata": {},
   "outputs": [],
   "source": [
    "from torch import optim"
   ]
  },
  {
   "cell_type": "code",
   "execution_count": 162,
   "id": "f6f50292",
   "metadata": {},
   "outputs": [],
   "source": [
    "bs = 256\n",
    "lr = 0.4\n",
    "\n",
    "train_dl, valid_dl = get_dls(train_ds, valid_ds, bs, collate_fn=collate_device)\n",
    "opt = optim.SGD(simple_cnn.parameters(), lr=lr)"
   ]
  },
  {
   "cell_type": "code",
   "execution_count": 167,
   "id": "3e63815b",
   "metadata": {},
   "outputs": [
    {
     "name": "stdout",
     "output_type": "stream",
     "text": [
      "0 0.5506280636787415 0.8256\n",
      "1 0.16779471454620362 0.9506000007629395\n",
      "2 0.1200051762342453 0.9646000007629395\n",
      "3 0.11528502407073975 0.966000000667572\n",
      "4 0.1559745602607727 0.9546000008583069\n"
     ]
    }
   ],
   "source": [
    "loss, acc = fit(5, simple_cnn.to(device), F.cross_entropy, opt, train_dl, valid_dl)"
   ]
  },
  {
   "cell_type": "code",
   "execution_count": 168,
   "id": "982e2f10",
   "metadata": {},
   "outputs": [
    {
     "name": "stdout",
     "output_type": "stream",
     "text": [
      "0 0.08358498106002808 0.9758000008583069\n",
      "1 0.08049975099563599 0.976599999332428\n",
      "2 0.08218975627422333 0.9770000008583068\n",
      "3 0.08296559610366822 0.9778000008583069\n",
      "4 0.08704531698226929 0.9744999993324279\n"
     ]
    }
   ],
   "source": [
    "opt = optim.SGD(simple_cnn.parameters(), lr = lr/4)\n",
    "loss, acc = fit(5, simple_cnn.to(def_device), F.cross_entropy, opt, train_dl, valid_dl)"
   ]
  },
  {
   "cell_type": "code",
   "execution_count": 171,
   "id": "f3e541b5",
   "metadata": {},
   "outputs": [
    {
     "data": {
      "text/plain": [
       "Conv2d(1, 4, kernel_size=(3, 3), stride=(2, 2), padding=(1, 1))"
      ]
     },
     "execution_count": 171,
     "metadata": {},
     "output_type": "execute_result"
    }
   ],
   "source": [
    "simple_cnn[0][0]"
   ]
  },
  {
   "cell_type": "code",
   "execution_count": 172,
   "id": "66b9759c",
   "metadata": {},
   "outputs": [],
   "source": [
    "conv1 = simple_cnn[0][0]"
   ]
  },
  {
   "cell_type": "code",
   "execution_count": 176,
   "id": "5334a2f1",
   "metadata": {},
   "outputs": [
    {
     "data": {
      "text/plain": [
       "torch.Size([4, 1, 3, 3])"
      ]
     },
     "execution_count": 176,
     "metadata": {},
     "output_type": "execute_result"
    }
   ],
   "source": [
    "conv1.weight.shape"
   ]
  },
  {
   "cell_type": "code",
   "execution_count": 179,
   "id": "a571c0c4",
   "metadata": {},
   "outputs": [],
   "source": [
    "conv2 = simple_cnn[1][0]"
   ]
  },
  {
   "cell_type": "code",
   "execution_count": 181,
   "id": "25dc611a",
   "metadata": {},
   "outputs": [
    {
     "data": {
      "text/plain": [
       "torch.Size([8, 4, 3, 3])"
      ]
     },
     "execution_count": 181,
     "metadata": {},
     "output_type": "execute_result"
    }
   ],
   "source": [
    "conv2.weight.shape"
   ]
  },
  {
   "cell_type": "code",
   "execution_count": 185,
   "id": "d0ffafb2",
   "metadata": {},
   "outputs": [
    {
     "data": {
      "text/plain": [
       "torch.Size([16, 16, 3, 3])"
      ]
     },
     "execution_count": 185,
     "metadata": {},
     "output_type": "execute_result"
    }
   ],
   "source": [
    "simple_cnn[3][0].weight.shape"
   ]
  },
  {
   "cell_type": "code",
   "execution_count": null,
   "id": "8122b456",
   "metadata": {},
   "outputs": [],
   "source": []
  }
 ],
 "metadata": {
  "kernelspec": {
   "display_name": "Python [conda env:root]",
   "language": "python",
   "name": "conda-root-py"
  },
  "language_info": {
   "codemirror_mode": {
    "name": "ipython",
    "version": 3
   },
   "file_extension": ".py",
   "mimetype": "text/x-python",
   "name": "python",
   "nbconvert_exporter": "python",
   "pygments_lexer": "ipython3",
   "version": "3.10.11"
  },
  "toc": {
   "base_numbering": 1,
   "nav_menu": {},
   "number_sections": true,
   "sideBar": true,
   "skip_h1_title": false,
   "title_cell": "Table of Contents",
   "title_sidebar": "Contents",
   "toc_cell": false,
   "toc_position": {},
   "toc_section_display": true,
   "toc_window_display": false
  }
 },
 "nbformat": 4,
 "nbformat_minor": 5
}
